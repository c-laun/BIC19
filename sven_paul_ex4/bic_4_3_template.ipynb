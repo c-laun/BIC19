{
  "nbformat": 4,
  "nbformat_minor": 0,
  "metadata": {
    "colab": {
      "name": "BIC_4.2_template.ipynb",
      "version": "0.3.2",
      "provenance": [],
      "collapsed_sections": []
    },
    "kernelspec": {
      "name": "python2",
      "display_name": "Python 2"
    }
  },
  "cells": [
    {
      "cell_type": "code",
      "metadata": {
        "id": "jrzNi2Tu1rIy",
        "colab_type": "code",
        "colab": {}
      },
      "source": [
        "# install nest 2.14.0\n",
        "!apt-get install -y build-essential cmake libltdl7-dev libreadline6-dev \\\n",
        "libncurses5-dev libgsl0-dev python-all-dev python-numpy python-scipy \\\n",
        "python-matplotlib ipython openmpi-bin libopenmpi-dev python-nose\n",
        "\n",
        "!wget https://github.com/nest/nest-simulator/releases/download/v2.14.0/nest-2.14.0.tar.gz\n",
        "!tar -xf nest-2.14.0.tar.gz\n",
        "!mkdir nest-simulator-2.14.0-build\n",
        "\n",
        "!cd nest-simulator-2.14.0-build && cmake -DCMAKE_INSTALL_PREFIX:PATH=/content/mynest ../nest-2.14.0 && make && make install"
      ],
      "execution_count": 0,
      "outputs": []
    },
    {
      "cell_type": "code",
      "metadata": {
        "id": "NRkBuCmn16yn",
        "colab_type": "code",
        "colab": {}
      },
      "source": [
        "# install pynn 0.9.2 with dependencies\n",
        "!pip install pyNN==0.9.2\n",
        "!pip install lazyarray\n",
        "!pip install neo"
      ],
      "execution_count": 0,
      "outputs": []
    },
    {
      "cell_type": "code",
      "metadata": {
        "id": "Q_nPz_LU2ACg",
        "colab_type": "code",
        "colab": {}
      },
      "source": [
        "# load nest into path\n",
        "import sys\n",
        "sys.path.insert(0, '/content/mynest/lib/python2.7/site-packages')"
      ],
      "execution_count": 0,
      "outputs": []
    },
    {
      "cell_type": "code",
      "metadata": {
        "id": "Cp378wGK2Fow",
        "colab_type": "code",
        "colab": {}
      },
      "source": [
        "# nest simulation\n",
        "from pylab import *\n",
        "import pyNN.nest as sim\n",
        "\n",
        "#known neuron parameters\n",
        "cm = 1. # nF\n",
        "ereve = 20. # mV\n",
        "erevi = -80. # mV\n",
        "\n",
        "# unknown neuron paramters (random values insertet here)\n",
        "vrest = -50. # mV\n",
        "wconde = .0031416 # uS\n",
        "wcondi = .0031416 # uS\n",
        "taumcond = 23.456 # ms\n",
        "tausyne = 3.1416 # ms\n",
        "tausyni = 2*3.1416 # ms\n",
        "\n",
        "tsim = 500.\n",
        "dt = .1\n",
        "\n",
        "sim.setup(timestep=dt, min_delay=dt, max_delay=dt)\n",
        "\n",
        "ifcellscond = [sim.create(sim.IF_cond_exp, {'cm' : cm,           'tau_m': taumcond,\n",
        "                                            'tau_syn_E':tausyne, 'tau_syn_I': tausyni,\n",
        "                                            'e_rev_E': ereve,    'e_rev_I'   : erevi,\n",
        "                                            'v_rest' : vrest,    'v_thresh':0,\n",
        "                                            'tau_refrac' : 2.0}) for i in xrange(1)]\n",
        "\n",
        "for ifcell in ifcellscond:\n",
        "    ifcell.initialize(v=vrest)\n",
        "\n",
        "####### simulate #######\n",
        "\n",
        "spkte = array([50., 100., 103., 106., 109., 112., 115., 118., 121., 124., 127.]) + 150.\n",
        "spkti = spkte + 150.\n",
        "\n",
        "# Subtract dt to guarantee exact onset of PSPs\n",
        "spkte -= dt\n",
        "spkti -= dt\n",
        "pulse = sim.DCSource(amplitude=0.2, start=50., stop=150.)\n",
        "spikesource1E = sim.create(sim.SpikeSourceArray, {'spike_times':spkte})\n",
        "spikesource1I = sim.create(sim.SpikeSourceArray, {'spike_times':spkti})\n",
        "\n",
        "pulse.inject_into(ifcellscond[0])\n",
        "sim.connect(spikesource1E, ifcellscond[0], weight=wconde, receptor_type='excitatory', delay=0.1)\n",
        "sim.connect(spikesource1I, ifcellscond[0], weight=wcondi, receptor_type='inhibitory', delay=0.1)\n",
        "\n",
        "for ifcell in ifcellscond:\n",
        "    ifcell.record_v()\n",
        "\n",
        "sim.run(tsim)\n",
        "\n",
        "t = arange(0,tsim+dt,dt)\n",
        "v = [array(ifcell.get_v().segments[0].analogsignals[0]).T[0] for ifcell in ifcellscond]\n",
        "\n",
        "sim.end()\n",
        "\n",
        "\n",
        "####### plot #######\n",
        "\n",
        "f, ax = subplots(1,1,figsize=(12, 6), dpi=80)\n",
        "vnoised = v[0] + normal(size=len(v[0]))*.1\n",
        "ax.plot(t,vnoised,color='b',label='u')\n",
        "ax.set_xticks(range(0,401,100))\n",
        "ax.set_xlabel(r'$t$ [ms]')\n",
        "ax.set_ylabel(r'$u$ [mV]')\n",
        "\n",
        "\n",
        "show()"
      ],
      "execution_count": 0,
      "outputs": []
    },
    {
      "cell_type": "code",
      "metadata": {
        "id": "tqPYYm62KGfr",
        "colab_type": "code",
        "colab": {}
      },
      "source": [
        ""
      ],
      "execution_count": 0,
      "outputs": []
    }
  ]
}